{
 "cells": [
  {
   "cell_type": "code",
   "execution_count": 1,
   "metadata": {},
   "outputs": [],
   "source": [
    "from zipfile import ZipFile"
   ]
  },
  {
   "cell_type": "code",
   "execution_count": 2,
   "metadata": {},
   "outputs": [],
   "source": [
    "with ZipFile(\"./travel_insurance.zip\", 'r') as zObject:\n",
    "    zObject.extractall(path=\"./\")"
   ]
  },
  {
   "cell_type": "code",
   "execution_count": 3,
   "metadata": {},
   "outputs": [],
   "source": [
    "import pandas as pd"
   ]
  },
  {
   "cell_type": "code",
   "execution_count": 4,
   "metadata": {},
   "outputs": [],
   "source": [
    "df = pd.read_csv(\"./travel_insurance/train.csv\")"
   ]
  },
  {
   "cell_type": "code",
   "execution_count": 5,
   "metadata": {},
   "outputs": [
    {
     "name": "stdout",
     "output_type": "stream",
     "text": [
      "Q1 -->  1590 10\n"
     ]
    }
   ],
   "source": [
    "Q1 = \"{} {}\".format(len(df),len(df.columns))\n",
    "print(\"Q1 --> \",Q1)"
   ]
  },
  {
   "cell_type": "code",
   "execution_count": 6,
   "metadata": {},
   "outputs": [
    {
     "name": "stdout",
     "output_type": "stream",
     "text": [
      "Q2 -->  928553\n"
     ]
    }
   ],
   "source": [
    "Q2 = int(df[\"AnnualIncome\"].mean())\n",
    "print(\"Q2 --> \",Q2)"
   ]
  },
  {
   "cell_type": "code",
   "execution_count": 7,
   "metadata": {},
   "outputs": [
    {
     "name": "stdout",
     "output_type": "stream",
     "text": [
      "Q3 -->  302\n"
     ]
    }
   ],
   "source": [
    "Q3 = df.loc[df[\"EverTravelledAbroad\"] == 'Yes'][\"EverTravelledAbroad\"].count()\n",
    "print(\"Q3 --> \",Q3)"
   ]
  },
  {
   "cell_type": "code",
   "execution_count": 8,
   "metadata": {},
   "outputs": [
    {
     "name": "stdout",
     "output_type": "stream",
     "text": [
      "Q4 -->  Private Sector/Self Employed 72.64\n"
     ]
    }
   ],
   "source": [
    "Q4 = \"{} {}\".format(df['Employment Type'].unique().max(), round(df['Employment Type'].value_counts(normalize=True).max() * 100,2))\n",
    "print(\"Q4 --> \",Q4)"
   ]
  },
  {
   "cell_type": "code",
   "execution_count": 9,
   "metadata": {},
   "outputs": [
    {
     "name": "stdout",
     "output_type": "stream",
     "text": [
      "Q5 -->  37.53\n"
     ]
    }
   ],
   "source": [
    "Q5 = round((df.loc[(df[\"ChronicDiseases\"]==True) & (df[\"TravelInsurance\"]=='Yes')][\"Customer Id\"].count()/df.loc[(df[\"ChronicDiseases\"]==True)][\"Customer Id\"].count())*100,2)\n",
    "print(\"Q5 --> \",Q5)"
   ]
  },
  {
   "cell_type": "code",
   "execution_count": 10,
   "metadata": {},
   "outputs": [],
   "source": [
    "Answers = [Q1,Q2,Q3,Q4,Q5]\n",
    "with open('output.txt','w') as file:\n",
    "    for i,line in enumerate(Answers):\n",
    "        if i!=0 : file.write(\"\\n\")\n",
    "        file.write(str(line))"
   ]
  },
  {
   "cell_type": "code",
   "execution_count": null,
   "metadata": {},
   "outputs": [],
   "source": []
  }
 ],
 "metadata": {
  "kernelspec": {
   "display_name": "base",
   "language": "python",
   "name": "python3"
  },
  "language_info": {
   "codemirror_mode": {
    "name": "ipython",
    "version": 3
   },
   "file_extension": ".py",
   "mimetype": "text/x-python",
   "name": "python",
   "nbconvert_exporter": "python",
   "pygments_lexer": "ipython3",
   "version": "3.11.3"
  },
  "orig_nbformat": 4
 },
 "nbformat": 4,
 "nbformat_minor": 2
}
